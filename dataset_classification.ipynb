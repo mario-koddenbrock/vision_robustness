{
 "cells": [
  {
   "metadata": {
    "ExecuteTime": {
     "end_time": "2024-10-02T12:26:32.603458Z",
     "start_time": "2024-10-02T12:26:31.611782Z"
    }
   },
   "cell_type": "code",
   "source": [
    "# istall required packages with pip \n",
    "!pip install -r requirements.txt"
   ],
   "id": "32a3a9b43004cefb",
   "outputs": [
    {
     "name": "stdout",
     "output_type": "stream",
     "text": [
      "\u001B[31mCould not open requirements file: [Errno 2] No such file or directory: 'requirements.txt'\u001B[0m\r\n"
     ]
    }
   ],
   "execution_count": 2
  },
  {
   "cell_type": "code",
   "id": "initial_id",
   "metadata": {
    "collapsed": true,
    "ExecuteTime": {
     "end_time": "2024-10-02T12:26:07.169099Z",
     "start_time": "2024-10-02T12:26:07.084590Z"
    }
   },
   "source": [
    "import warnings\n",
    "\n",
    "import torch\n",
    "\n",
    "from datasets import DATASET_DESCRIPTIONS, evaluate_dataset\n",
    "from utils import initialize_evaluators\n",
    "from vlm.blip_2 import BLIP2Evaluator\n",
    "from vlm.blip import BLIPEvaluator\n",
    "from vlm.clip import CLIPEvaluator\n",
    "from vlm.pali_gemma import PaliGemmaEvaluator\n",
    "from vlm.phi_vision import PhiVisionEvaluator\n",
    "from vlm.qwen_vl import QwenVLEvaluator\n",
    "from vlm.vilt import ViltEvaluator\n",
    "from vlm.visual_bert import VisualBertEvaluator\n",
    "import huggingface as hf\n",
    "\n",
    "# automatically reload modules when they have changed\n",
    "%load_ext autoreload\n",
    "%autoreload 2\n"
   ],
   "outputs": [
    {
     "ename": "ModuleNotFoundError",
     "evalue": "No module named 'torch'",
     "output_type": "error",
     "traceback": [
      "\u001B[0;31m---------------------------------------------------------------------------\u001B[0m",
      "\u001B[0;31mModuleNotFoundError\u001B[0m                       Traceback (most recent call last)",
      "\u001B[0;32m<ipython-input-1-75c296c73980>\u001B[0m in \u001B[0;36m<module>\u001B[0;34m\u001B[0m\n\u001B[1;32m      1\u001B[0m \u001B[0;32mimport\u001B[0m \u001B[0mwarnings\u001B[0m\u001B[0;34m\u001B[0m\u001B[0;34m\u001B[0m\u001B[0m\n\u001B[1;32m      2\u001B[0m \u001B[0;34m\u001B[0m\u001B[0m\n\u001B[0;32m----> 3\u001B[0;31m \u001B[0;32mimport\u001B[0m \u001B[0mtorch\u001B[0m\u001B[0;34m\u001B[0m\u001B[0;34m\u001B[0m\u001B[0m\n\u001B[0m\u001B[1;32m      4\u001B[0m \u001B[0;34m\u001B[0m\u001B[0m\n\u001B[1;32m      5\u001B[0m \u001B[0;32mfrom\u001B[0m \u001B[0mdatasets\u001B[0m \u001B[0;32mimport\u001B[0m \u001B[0mDATASET_DESCRIPTIONS\u001B[0m\u001B[0;34m,\u001B[0m \u001B[0mevaluate_dataset\u001B[0m\u001B[0;34m\u001B[0m\u001B[0;34m\u001B[0m\u001B[0m\n",
      "\u001B[0;31mModuleNotFoundError\u001B[0m: No module named 'torch'"
     ]
    }
   ],
   "execution_count": 1
  },
  {
   "metadata": {},
   "cell_type": "code",
   "outputs": [],
   "execution_count": null,
   "source": [
    "# Ignore warnings\n",
    "warnings.filterwarnings(\"ignore\")\n",
    "\n",
    "# Determine the device to use (GPU if available, otherwise CPU)\n",
    "device = \"cuda\" if torch.cuda.is_available() else \"cpu\"\n",
    "print(f\"Device: {device}\")\n",
    "\n",
    "# Log in to Hugging Face\n",
    "hf.huggingface_login()"
   ],
   "id": "9844c3d6854a52ce"
  },
  {
   "metadata": {},
   "cell_type": "code",
   "outputs": [],
   "execution_count": null,
   "source": [
    "# Configuration for evaluators\n",
    "EVALUATORS_CONFIG = {\n",
    "    \"CLIP\": CLIPEvaluator,\n",
    "    \"PaliGemma\": PaliGemmaEvaluator,\n",
    "    \"PhiVision\": PhiVisionEvaluator,\n",
    "    \"QwenVL\": QwenVLEvaluator,\n",
    "    \"Vilt\": ViltEvaluator,\n",
    "    # \"VisualBert\": VisualBertEvaluator,\n",
    "    # \"BLIP\": BLIPEvaluator,\n",
    "    # \"BLIP2\": BLIP2Evaluator,\n",
    "}\n",
    "\n",
    "# Initialize evaluators\n",
    "evaluators = initialize_evaluators(device, EVALUATORS_CONFIG)\n",
    "\n",
    "datasets = [\n",
    "    \"Human Action Recognition\",\n",
    "    \"leather\",\n",
    "    \"zipper\",\n",
    "    \"FER2013\",\n",
    "    \"Food-101\",\n",
    "]\n",
    "\n"
   ],
   "id": "2c2529f7b1a520b1"
  },
  {
   "metadata": {},
   "cell_type": "code",
   "outputs": [],
   "execution_count": null,
   "source": [
    "# Iterate over each dataset and evaluate\n",
    "for dataset_name in datasets:\n",
    "    evaluate_dataset(evaluators, dataset_name)"
   ],
   "id": "1edfd8a8098f279c"
  }
 ],
 "metadata": {
  "kernelspec": {
   "display_name": "Python 3",
   "language": "python",
   "name": "python3"
  },
  "language_info": {
   "codemirror_mode": {
    "name": "ipython",
    "version": 2
   },
   "file_extension": ".py",
   "mimetype": "text/x-python",
   "name": "python",
   "nbconvert_exporter": "python",
   "pygments_lexer": "ipython2",
   "version": "2.7.6"
  }
 },
 "nbformat": 4,
 "nbformat_minor": 5
}
